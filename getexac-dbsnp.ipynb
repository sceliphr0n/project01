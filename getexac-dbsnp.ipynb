{
 "cells": [
  {
   "cell_type": "code",
   "execution_count": 2,
   "metadata": {
    "collapsed": false
   },
   "outputs": [
    {
     "name": "stdout",
     "output_type": "stream",
     "text": [
      "Preuzimanje.. http://exac.hms.harvard.edu/rest/dbsnp/rs1800234\n",
      "\n",
      "rsID:  rs1800234\n",
      "\n",
      "gen:  ENSG00000186951\n",
      "\n",
      "simbol:  PPARA\n",
      "\n",
      "variantID:  22-46615880-T-C\n",
      "\n",
      "ucestalost alela:  0.00961268245913\n",
      "\n",
      "kategorija:  missense_variant\n",
      "\n",
      "posledica:  missense_variant \n",
      "\n",
      "\n",
      "\n"
     ]
    }
   ],
   "source": [
    "import json\n",
    "import urllib2\n",
    "import time\n",
    "from Tkinter import *\n",
    "from tkSimpleDialog import askstring\n",
    "\n",
    "prozor = Tk()\n",
    "prozor.withdraw()\n",
    "\n",
    "\n",
    "rs_brojevi = askstring(\"rsID | ExAC\", \"Unesi RS brojeve razdvojene razmakom: \")\n",
    "\n",
    "\n",
    "try:\n",
    "    rs_brojevi = rs_brojevi.split()\n",
    "\n",
    "\n",
    "except AttributeError:\n",
    "        print \"\\nGreska 01\"\n",
    "\n",
    "else:\n",
    "    for i in rs_brojevi:\n",
    "        \n",
    "        url = 'http://exac.hms.harvard.edu/rest/dbsnp/'+i \n",
    "        \n",
    "        print 'Preuzimanje..', url\n",
    "        \n",
    "        html = urllib2.urlopen(url).read()\n",
    "        \n",
    "        info = json.loads(html)\n",
    "        \n",
    "        try:\n",
    "            gene = str(info['variants_in_region'][0]['vep_annotations'][0]['Gene'])\n",
    "            symbol = str(info['variants_in_region'][0]['vep_annotations'][0]['SYMBOL'])\n",
    "            rsID = str(info['rsid'])\n",
    "            variantID =  str(info['variants_in_region'][0]['variant_id'])\n",
    "            mConseq = str(info['variants_in_region'][0]['major_consequence'])\n",
    "            category = str(info['variants_in_region'][0]['category'])\n",
    "            allele_freq = str(info['variants_in_region'][0]['allele_freq'])\n",
    "        \n",
    "        except IndexError:\n",
    "            print \"\\nExAC ne sadrzi podatke za\", i, '\\n\\n\\n'\n",
    "            time.sleep(5)\n",
    "    \n",
    "        else:\n",
    "            print '\\nrsID: ', rsID\n",
    "            print '\\ngen: ', gene\n",
    "            print '\\nsimbol: ', symbol\n",
    "            print '\\nvariantID: ', variantID\n",
    "            print '\\nucestalost alela: ', allele_freq\n",
    "            print '\\nkategorija: ', category\n",
    "            print '\\nposledica: ', mConseq, '\\n\\n\\n'\n",
    "            time.sleep(5)\n",
    "\n"
   ]
  },
  {
   "cell_type": "code",
   "execution_count": null,
   "metadata": {
    "collapsed": true
   },
   "outputs": [],
   "source": []
  }
 ],
 "metadata": {
  "kernelspec": {
   "display_name": "Python 2",
   "language": "python",
   "name": "python2"
  },
  "language_info": {
   "codemirror_mode": {
    "name": "ipython",
    "version": 2
   },
   "file_extension": ".py",
   "mimetype": "text/x-python",
   "name": "python",
   "nbconvert_exporter": "python",
   "pygments_lexer": "ipython2",
   "version": "2.7.13"
  }
 },
 "nbformat": 4,
 "nbformat_minor": 2
}
